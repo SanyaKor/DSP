{
 "cells": [
  {
   "cell_type": "code",
   "execution_count": 1,
   "id": "b80b9ef8-4c52-49dc-bc7f-ac9aac30fd32",
   "metadata": {},
   "outputs": [
    {
     "data": {
      "application/vnd.jupyter.widget-view+json": {
       "model_id": "efb5f077cfa3499ba368c3782ca275b1",
       "version_major": 2,
       "version_minor": 0
      },
      "text/plain": [
       "VBox(children=(HBox(children=(Box(children=(Tab(children=(VBox(children=(Output(),)), VBox(children=(Output(),…"
      ]
     },
     "metadata": {},
     "output_type": "display_data"
    }
   ],
   "source": [
    "%run ./src_L3.ipynb"
   ]
  },
  {
   "cell_type": "code",
   "execution_count": null,
   "id": "d1c1acde-5006-4e51-bd2a-b47b38f795bd",
   "metadata": {},
   "outputs": [],
   "source": []
  },
  {
   "cell_type": "code",
   "execution_count": null,
   "id": "e0b5cd42-be7c-4045-b5be-9d38074e2b77",
   "metadata": {},
   "outputs": [],
   "source": []
  }
 ],
 "metadata": {
  "kernelspec": {
   "display_name": "Python 3 (ipykernel)",
   "language": "python",
   "name": "python3"
  },
  "language_info": {
   "codemirror_mode": {
    "name": "ipython",
    "version": 3
   },
   "file_extension": ".py",
   "mimetype": "text/x-python",
   "name": "python",
   "nbconvert_exporter": "python",
   "pygments_lexer": "ipython3",
   "version": "3.7.12"
  }
 },
 "nbformat": 4,
 "nbformat_minor": 5
}
