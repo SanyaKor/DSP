{
 "cells": [
  {
   "cell_type": "code",
   "execution_count": null,
   "id": "35142a67-be8c-452d-9bab-9e00ed068e91",
   "metadata": {},
   "outputs": [
    {
     "data": {
      "application/vnd.jupyter.widget-view+json": {
       "model_id": "c351521258a64265b7141af3107266c3",
       "version_major": 2,
       "version_minor": 0
      },
      "text/plain": [
       "VBox(children=(HBox(children=(Box(children=(Tab(children=(VBox(children=(HBox(children=(Button(button_style='p…"
      ]
     },
     "metadata": {},
     "output_type": "display_data"
    },
    {
     "data": {
      "text/html": [
       "<style>.container { width:50% !important; }</style>"
      ],
      "text/plain": [
       "<IPython.core.display.HTML object>"
      ]
     },
     "metadata": {},
     "output_type": "display_data"
    }
   ],
   "source": [
    "%run ./src_L1.ipynb"
   ]
  },
  {
   "cell_type": "code",
   "execution_count": null,
   "id": "6fb07e56-c14a-498f-9905-989495e862c6",
   "metadata": {},
   "outputs": [],
   "source": []
  }
 ],
 "metadata": {
  "kernelspec": {
   "display_name": "",
   "name": ""
  },
  "language_info": {
   "name": ""
  }
 },
 "nbformat": 4,
 "nbformat_minor": 5
}
