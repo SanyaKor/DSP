{
 "cells": [
  {
   "cell_type": "code",
   "execution_count": 3,
   "id": "b25ec6ba-cbaf-48e9-8333-af0b7d5be6ba",
   "metadata": {},
   "outputs": [
    {
     "data": {
      "application/vnd.jupyter.widget-view+json": {
       "model_id": "fd754dc0b90e4bbe8493e301e0d614cc",
       "version_major": 2,
       "version_minor": 0
      },
      "text/plain": [
       "VBox(children=(HBox(children=(Box(children=(Tab(children=(VBox(children=(HBox(children=(Button(button_style='p…"
      ]
     },
     "metadata": {},
     "output_type": "display_data"
    }
   ],
   "source": [
    "%run ./src_L2.ipynb"
   ]
  },
  {
   "cell_type": "code",
   "execution_count": null,
   "id": "9a589f52-d478-4df2-a77d-7f5c870ee370",
   "metadata": {},
   "outputs": [],
   "source": []
  }
 ],
 "metadata": {
  "kernelspec": {
   "display_name": "Python 3 (ipykernel)",
   "language": "python",
   "name": "python3"
  },
  "language_info": {
   "codemirror_mode": {
    "name": "ipython",
    "version": 3
   },
   "file_extension": ".py",
   "mimetype": "text/x-python",
   "name": "python",
   "nbconvert_exporter": "python",
   "pygments_lexer": "ipython3",
   "version": "3.7.12"
  }
 },
 "nbformat": 4,
 "nbformat_minor": 5
}
