{
 "cells": [
  {
   "cell_type": "code",
   "execution_count": 4,
   "id": "b80b9ef8-4c52-49dc-bc7f-ac9aac30fd32",
   "metadata": {},
   "outputs": [],
   "source": [
    "%run ./src_L5.ipynb"
   ]
  },
  {
   "cell_type": "code",
   "execution_count": null,
   "id": "692d33f3-63d0-4f07-8eba-97dd6a886912",
   "metadata": {},
   "outputs": [],
   "source": []
  }
 ],
 "metadata": {
  "kernelspec": {
   "display_name": "Python 3 (ipykernel)",
   "language": "python",
   "name": "python3"
  },
  "language_info": {
   "codemirror_mode": {
    "name": "ipython",
    "version": 3
   },
   "file_extension": ".py",
   "mimetype": "text/x-python",
   "name": "python",
   "nbconvert_exporter": "python",
   "pygments_lexer": "ipython3",
   "version": "3.7.12"
  }
 },
 "nbformat": 4,
 "nbformat_minor": 5
}
