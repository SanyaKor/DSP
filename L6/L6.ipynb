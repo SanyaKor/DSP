{
 "cells": [
  {
   "cell_type": "code",
   "execution_count": null,
   "id": "c7f1b2dc-0158-4235-90c4-2abcd2055b58",
   "metadata": {},
   "outputs": [
    {
     "data": {
      "application/vnd.jupyter.widget-view+json": {
       "model_id": "9d01221ad6404686bed105c6f3b4b3f9",
       "version_major": 2,
       "version_minor": 0
      },
      "text/plain": [
       "VBox(children=(HBox(children=(Box(children=(Tab(children=(VBox(children=(HBox(children=(Button(button_style='p…"
      ]
     },
     "metadata": {},
     "output_type": "display_data"
    },
    {
     "data": {
      "text/html": [
       "<style>.container { width:50% !important; }</style>"
      ],
      "text/plain": [
       "<IPython.core.display.HTML object>"
      ]
     },
     "metadata": {},
     "output_type": "display_data"
    }
   ],
   "source": [
    "%run ./src_L6.ipynb"
   ]
  },
  {
   "cell_type": "code",
   "execution_count": null,
   "id": "b80b9ef8-4c52-49dc-bc7f-ac9aac30fd32",
   "metadata": {},
   "outputs": [],
   "source": []
  }
 ],
 "metadata": {
  "kernelspec": {
   "display_name": "",
   "name": ""
  },
  "language_info": {
   "name": ""
  }
 },
 "nbformat": 4,
 "nbformat_minor": 5
}
